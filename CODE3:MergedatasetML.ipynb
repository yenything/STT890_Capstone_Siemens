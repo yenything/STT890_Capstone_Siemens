{
 "cells": [
  {
   "cell_type": "markdown",
   "metadata": {},
   "source": [
    "# 1. import package"
   ]
  },
  {
   "cell_type": "code",
   "execution_count": 1,
   "metadata": {},
   "outputs": [
    {
     "name": "stderr",
     "output_type": "stream",
     "text": [
      "2023-12-16 18:01:14.578177: I tensorflow/core/platform/cpu_feature_guard.cc:193] This TensorFlow binary is optimized with oneAPI Deep Neural Network Library (oneDNN) to use the following CPU instructions in performance-critical operations:  SSE4.1 SSE4.2 AVX AVX2 FMA\n",
      "To enable them in other operations, rebuild TensorFlow with the appropriate compiler flags.\n"
     ]
    }
   ],
   "source": [
    "import pandas as pd\n",
    "import matplotlib.pyplot as plt\n",
    "import numpy as np\n",
    "import seaborn as sns\n",
    "from sklearn import svm\n",
    "from sklearn.model_selection import train_test_split\n",
    "from sklearn.metrics import confusion_matrix\n",
    "from sklearn.tree import DecisionTreeClassifier\n",
    "from sklearn.linear_model import LogisticRegression\n",
    "from sklearn.metrics import accuracy_score\n",
    "from sklearn.decomposition import PCA\n",
    "from sklearn.metrics import precision_score\n",
    "from sklearn.metrics import recall_score\n",
    "from sklearn.metrics import f1_score\n",
    "from tensorflow import keras\n",
    "from tensorflow.keras import layers"
   ]
  },
  {
   "cell_type": "markdown",
   "metadata": {},
   "source": [
    "# 2. read and preprocess data"
   ]
  },
  {
   "cell_type": "code",
   "execution_count": 19,
   "metadata": {},
   "outputs": [],
   "source": [
    "df_5 = pd.read_csv(\"data/ZDT1_5var100gen/ZDT1_5var100gen.csv\")\n",
    "rank_5 = pd.read_csv(\"data/ZDT1_5var100gen/rank_info.csv\",header=None)\n",
    "df_5[\"RANK\"] = rank_5\n",
    "df_ml_5 = df_5.copy()\n",
    "df_ml_5 = df_ml_5.drop(columns=[\"Unnamed: 0\"])\n",
    "X_5 = df_ml_5.iloc[:, :5]\n",
    "Y_5 = df_ml_5.loc[:, \"RANK\"]\n",
    "pca_5 = PCA(n_components=2)\n",
    "X_pca_5 = pca_5.fit_transform(X_5)\n",
    "df_5_pca = pd.DataFrame({\"com1\": X_pca_5[:, 0], \"com2\": X_pca_5[:, 1], \"rank\": Y_5})"
   ]
  },
  {
   "cell_type": "code",
   "execution_count": 20,
   "metadata": {},
   "outputs": [],
   "source": [
    "df_10 = pd.read_csv(\"data/ZDT1_10var100gen/ZDT1_10var100gen.csv\")\n",
    "rank_10 = pd.read_csv(\"data/ZDT1_10var100gen/rank_info.csv\",header=None)\n",
    "df_10[\"RANK\"] = rank_10\n",
    "df_ml_10 = df_10.copy()\n",
    "df_ml_10 = df_ml_10.drop(columns=[\"Unnamed: 0\"])\n",
    "X_10 = df_ml_10.iloc[:, :10]\n",
    "Y_10 = df_ml_10.loc[:, \"RANK\"]\n",
    "pca_10 = PCA(n_components=2)\n",
    "X_pca_10 = pca_10.fit_transform(X_10)\n",
    "df_10_pca = pd.DataFrame({\"com1\": X_pca_10[:, 0], \"com2\": X_pca_10[:, 1], \"rank\": Y_10})"
   ]
  },
  {
   "cell_type": "code",
   "execution_count": 21,
   "metadata": {},
   "outputs": [],
   "source": [
    "df_15 = pd.read_csv(\"data/ZDT1_15var100gen/ZDT1_15var100gen.csv\")\n",
    "rank_15 = pd.read_csv(\"data/ZDT1_15var100gen/rank_info.csv\",header=None)\n",
    "df_15[\"RANK\"] = rank_15\n",
    "df_ml_15 = df_15.copy()\n",
    "df_ml_15 = df_ml_15.drop(columns=[\"Unnamed: 0\"])\n",
    "X_15 = df_ml_15.iloc[:, :15]\n",
    "Y_15 = df_ml_15.loc[:, \"RANK\"]\n",
    "pca_15 = PCA(n_components=2)\n",
    "X_pca_15 = pca_15.fit_transform(X_15)\n",
    "df_15_pca = pd.DataFrame({\"com1\": X_pca_15[:, 0], \"com2\": X_pca_15[:, 1], \"rank\": Y_15})"
   ]
  },
  {
   "cell_type": "code",
   "execution_count": 22,
   "metadata": {},
   "outputs": [],
   "source": [
    "df_merged = pd.concat([df_5_pca, df_10_pca, df_15_pca], ignore_index=True)"
   ]
  },
  {
   "cell_type": "markdown",
   "metadata": {},
   "source": [
    "# 3. train models"
   ]
  },
  {
   "cell_type": "markdown",
   "metadata": {},
   "source": [
    "## 3.1. Logistic Regression"
   ]
  },
  {
   "cell_type": "code",
   "execution_count": 23,
   "metadata": {},
   "outputs": [
    {
     "name": "stderr",
     "output_type": "stream",
     "text": [
      "/Users/apple/opt/anaconda3/lib/python3.9/site-packages/sklearn/metrics/_classification.py:1318: UndefinedMetricWarning: Precision is ill-defined and being set to 0.0 due to no predicted samples. Use `zero_division` parameter to control this behavior.\n",
      "  _warn_prf(average, modifier, msg_start, len(result))\n",
      "/Users/apple/opt/anaconda3/lib/python3.9/site-packages/sklearn/metrics/_classification.py:1318: UndefinedMetricWarning: Precision is ill-defined and being set to 0.0 due to no predicted samples. Use `zero_division` parameter to control this behavior.\n",
      "  _warn_prf(average, modifier, msg_start, len(result))\n"
     ]
    }
   ],
   "source": [
    "precision_pca_lr = [] \n",
    "recall_pca_lr = [] \n",
    "f1_pca_lr = []\n",
    "for i in range(11):\n",
    "    Y = df_merged[\"rank\"].apply(lambda x: 1 if x <= i else 0)\n",
    "    X = df_merged.iloc[:, :2]\n",
    "    X_train, X_test, y_train, y_test = train_test_split(X, Y, test_size=0.33, random_state=888, stratify=Y)\n",
    "    lr_cl = LogisticRegression(penalty=\"l2\")\n",
    "    lr_cl.fit(X_train, y_train)\n",
    "    test_predict = lr_cl.predict(X_test)\n",
    "    precision_pca_lr.append(precision_score(y_pred=test_predict, y_true=y_test))\n",
    "    recall_pca_lr.append(recall_score(y_pred=test_predict, y_true=y_test))\n",
    "    f1_pca_lr.append(f1_score(y_pred=test_predict, y_true=y_test))"
   ]
  },
  {
   "cell_type": "markdown",
   "metadata": {},
   "source": [
    "## 3.2. SVM"
   ]
  },
  {
   "cell_type": "code",
   "execution_count": 24,
   "metadata": {},
   "outputs": [
    {
     "name": "stderr",
     "output_type": "stream",
     "text": [
      "/Users/apple/opt/anaconda3/lib/python3.9/site-packages/sklearn/metrics/_classification.py:1318: UndefinedMetricWarning: Precision is ill-defined and being set to 0.0 due to no predicted samples. Use `zero_division` parameter to control this behavior.\n",
      "  _warn_prf(average, modifier, msg_start, len(result))\n",
      "/Users/apple/opt/anaconda3/lib/python3.9/site-packages/sklearn/metrics/_classification.py:1318: UndefinedMetricWarning: Precision is ill-defined and being set to 0.0 due to no predicted samples. Use `zero_division` parameter to control this behavior.\n",
      "  _warn_prf(average, modifier, msg_start, len(result))\n",
      "/Users/apple/opt/anaconda3/lib/python3.9/site-packages/sklearn/metrics/_classification.py:1318: UndefinedMetricWarning: Precision is ill-defined and being set to 0.0 due to no predicted samples. Use `zero_division` parameter to control this behavior.\n",
      "  _warn_prf(average, modifier, msg_start, len(result))\n"
     ]
    }
   ],
   "source": [
    "precision_pca_svm = [] \n",
    "recall_pca_svm = [] \n",
    "f1_pca_svm = []\n",
    "for i in range(11):\n",
    "    Y = df_merged[\"rank\"].apply(lambda x: 1 if x <= i else 0)\n",
    "    X = df_merged.iloc[:, :2]\n",
    "    X_train, X_test, y_train, y_test = train_test_split(X, Y, test_size=0.33, random_state=888, stratify=Y)\n",
    "    svm_cl = svm.SVC(kernel=\"linear\")\n",
    "    svm_cl.fit(X_train, y_train)\n",
    "    test_predict = svm_cl.predict(X_test)\n",
    "    precision_pca_svm.append(precision_score(y_pred=test_predict, y_true=y_test))\n",
    "    recall_pca_svm.append(recall_score(y_pred=test_predict, y_true=y_test))\n",
    "    f1_pca_svm.append(f1_score(y_pred=test_predict, y_true=y_test))"
   ]
  },
  {
   "cell_type": "markdown",
   "metadata": {},
   "source": [
    "## 3.3. Decision Tree"
   ]
  },
  {
   "cell_type": "code",
   "execution_count": 25,
   "metadata": {},
   "outputs": [
    {
     "name": "stderr",
     "output_type": "stream",
     "text": [
      "/Users/apple/opt/anaconda3/lib/python3.9/site-packages/sklearn/metrics/_classification.py:1318: UndefinedMetricWarning: Precision is ill-defined and being set to 0.0 due to no predicted samples. Use `zero_division` parameter to control this behavior.\n",
      "  _warn_prf(average, modifier, msg_start, len(result))\n"
     ]
    }
   ],
   "source": [
    "precision_pca_dt = [] \n",
    "recall_pca_dt = [] \n",
    "f1_pca_dt = []\n",
    "for i in range(11):\n",
    "    Y = df_merged[\"rank\"].apply(lambda x: 1 if x <= i else 0)\n",
    "    X = df_merged.iloc[:, :2]\n",
    "    X_train, X_test, y_train, y_test = train_test_split(X, Y, test_size=0.33, random_state=888, stratify=Y)\n",
    "    dt_cl = DecisionTreeClassifier(random_state=0, max_depth=3)\n",
    "    dt_cl.fit(X_train, y_train)\n",
    "    test_predict = dt_cl.predict(X_test)\n",
    "    precision_pca_dt.append(precision_score(y_pred=test_predict, y_true=y_test))\n",
    "    recall_pca_dt.append(recall_score(y_pred=test_predict, y_true=y_test))\n",
    "    f1_pca_dt.append(f1_score(y_pred=test_predict, y_true=y_test))"
   ]
  },
  {
   "cell_type": "markdown",
   "metadata": {},
   "source": [
    "## 3.4. Feedforward Neural Network"
   ]
  },
  {
   "cell_type": "code",
   "execution_count": 26,
   "metadata": {},
   "outputs": [],
   "source": [
    "def FNN():\n",
    "    fnnmodel = keras.Sequential([\n",
    "        layers.Input(shape=(2,)),\n",
    "        layers.Dense(24, activation='relu'),\n",
    "        layers.Dense(12, activation='relu'),\n",
    "        layers.Dense(1, activation='sigmoid') \n",
    "    ])\n",
    "    return fnnmodel"
   ]
  },
  {
   "cell_type": "code",
   "execution_count": 27,
   "metadata": {},
   "outputs": [
    {
     "name": "stdout",
     "output_type": "stream",
     "text": [
      "315/315 [==============================] - 1s 2ms/step - loss: 0.5438 - accuracy: 0.7785\n",
      "155/155 [==============================] - 0s 1ms/step\n"
     ]
    },
    {
     "name": "stderr",
     "output_type": "stream",
     "text": [
      "/Users/apple/opt/anaconda3/lib/python3.9/site-packages/sklearn/metrics/_classification.py:1318: UndefinedMetricWarning: Precision is ill-defined and being set to 0.0 due to no predicted samples. Use `zero_division` parameter to control this behavior.\n",
      "  _warn_prf(average, modifier, msg_start, len(result))\n"
     ]
    },
    {
     "name": "stdout",
     "output_type": "stream",
     "text": [
      "315/315 [==============================] - 1s 2ms/step - loss: 0.6353 - accuracy: 0.6524\n",
      "155/155 [==============================] - 0s 1ms/step\n"
     ]
    },
    {
     "name": "stderr",
     "output_type": "stream",
     "text": [
      "/Users/apple/opt/anaconda3/lib/python3.9/site-packages/sklearn/metrics/_classification.py:1318: UndefinedMetricWarning: Precision is ill-defined and being set to 0.0 due to no predicted samples. Use `zero_division` parameter to control this behavior.\n",
      "  _warn_prf(average, modifier, msg_start, len(result))\n"
     ]
    },
    {
     "name": "stdout",
     "output_type": "stream",
     "text": [
      "315/315 [==============================] - 1s 2ms/step - loss: 0.6677 - accuracy: 0.5773\n",
      "155/155 [==============================] - 0s 1ms/step\n",
      "315/315 [==============================] - 2s 2ms/step - loss: 0.6817 - accuracy: 0.5759\n",
      "155/155 [==============================] - 1s 3ms/step\n",
      "315/315 [==============================] - 1s 2ms/step - loss: 0.6486 - accuracy: 0.6058\n",
      "155/155 [==============================] - 0s 1ms/step\n",
      "315/315 [==============================] - 1s 2ms/step - loss: 0.6440 - accuracy: 0.6327\n",
      "155/155 [==============================] - 0s 948us/step\n",
      "315/315 [==============================] - 1s 1ms/step - loss: 0.6207 - accuracy: 0.6826\n",
      "155/155 [==============================] - 0s 2ms/step\n",
      "315/315 [==============================] - 1s 2ms/step - loss: 0.6052 - accuracy: 0.6906\n",
      "155/155 [==============================] - 0s 1ms/step\n",
      "315/315 [==============================] - 1s 2ms/step - loss: 0.5905 - accuracy: 0.7331\n",
      "155/155 [==============================] - 0s 1ms/step\n",
      "315/315 [==============================] - 1s 2ms/step - loss: 0.5684 - accuracy: 0.7403\n",
      "155/155 [==============================] - 0s 981us/step\n",
      "315/315 [==============================] - 1s 2ms/step - loss: 0.5528 - accuracy: 0.7706\n",
      "155/155 [==============================] - 0s 1ms/step\n"
     ]
    }
   ],
   "source": [
    "precision_pca_fnn = [] \n",
    "recall_pca_fnn = [] \n",
    "f1_pca_fnn = []\n",
    "for i in range(11):\n",
    "    Y = df_merged[\"rank\"].apply(lambda x: 1 if x <= i else 0)\n",
    "    X = df_merged.iloc[:, :2]\n",
    "    X_train, X_test, y_train, y_test = train_test_split(X, Y, test_size=0.33, random_state=888, stratify=Y)\n",
    "    fnn_cl = FNN()\n",
    "    fnn_cl.compile(optimizer='adam', loss='binary_crossentropy', metrics=['accuracy'])\n",
    "    fnn_cl.fit(X_train, y_train)\n",
    "    test_predict = fnn_cl.predict(X_test)\n",
    "    precision_pca_fnn.append(precision_score(y_pred=(test_predict > 0.5), y_true=y_test))\n",
    "    recall_pca_fnn.append(recall_score(y_pred=(test_predict > 0.5), y_true=y_test))\n",
    "    f1_pca_fnn.append(f1_score(y_pred=(test_predict > 0.5), y_true=y_test))"
   ]
  },
  {
   "cell_type": "markdown",
   "metadata": {},
   "source": [
    "# 4. Result Visualization"
   ]
  },
  {
   "cell_type": "code",
   "execution_count": 28,
   "metadata": {},
   "outputs": [
    {
     "data": {
      "text/plain": [
       "<matplotlib.legend.Legend at 0x7fbc6f4eb4c0>"
      ]
     },
     "execution_count": 28,
     "metadata": {},
     "output_type": "execute_result"
    },
    {
     "data": {
      "image/png": "[encoded data removed]",
      "text/plain": [
       "<Figure size 640x480 with 1 Axes>"
      ]
     },
     "metadata": {},
     "output_type": "display_data"
    }
   ],
   "source": [
    "plt.plot(f1_pca_lr, label=\"Logistic Regression\")\n",
    "plt.plot(f1_pca_svm, label=\"SVM\")\n",
    "plt.plot(f1_pca_dt, label = \"Decision Tree\")\n",
    "plt.plot(f1_pca_fnn, label = \"FNN\")\n",
    "plt.xlabel(\"boudary\")\n",
    "plt.title(\"f1 score of predicting pareto set using merged dataset\")\n",
    "plt.legend()"
   ]
  }
 ],
 "metadata": {
  "kernelspec": {
   "display_name": "base",
   "language": "python",
   "name": "python3"
  },
  "language_info": {
   "codemirror_mode": {
    "name": "ipython",
    "version": 3
   },
   "file_extension": ".py",
   "mimetype": "text/x-python",
   "name": "python",
   "nbconvert_exporter": "python",
   "pygments_lexer": "ipython3",
   "version": "3.9.16"
  }
 },
 "nbformat": 4,
 "nbformat_minor": 2
}
